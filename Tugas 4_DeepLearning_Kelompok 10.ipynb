{
  "cells": [
    {
      "cell_type": "markdown",
      "metadata": {
        "id": "ZGiUzQIBW3KA"
      },
      "source": [
        "# Tugas 4 MA4072 - Pembelajaran Mendalam\n",
        "oleh:<br>\n",
        "Michella Chandra - 10118011<br>\n",
        "Thirafi Najwan Kurniatama - 13520157\n",
        "\n",
        "Akan dibuat tiga model dengan arsitektur berbeda untuk memprediksi penyakit Katarak berdasarkan Fundus mata.\n",
        "1. Model MLP\n",
        "2. Model CNN dengan Arsitektur VGG11\n",
        "3. Model RNN dengan Arsitektur LSTM\n",
        "\n",
        "Ketiga model ini akan dilatih dan diuji menggunakan dataset Ocular Disease Recognition (ODIR) yang diperoleh dari https://www.kaggle.com/datasets/andrewmvd/ocular-disease-recognition-odir5k. Data yang dipertimbangkan adalah Fundus kanan atau Fundus kiri Pasien\n",
        "\n",
        "Perlu dicatat: untuk rerun Colab ini, diperlukan kaggle API dari pengguna dan ditaruh di direktori /content/ pada runtime e.g. /content/kaggle.json. Tutorial mendapatkannya bisa mengikuti di https://medium.com/analytics-vidhya/how-to-download-kaggle-datasets-into-google-colab-via-google-drive-dcb348d7af07"
      ]
    },
    {
      "cell_type": "markdown",
      "metadata": {
        "id": "lsbxe-_auq-J"
      },
      "source": [
        "# File Download"
      ]
    },
    {
      "cell_type": "code",
      "execution_count": null,
      "metadata": {
        "colab": {
          "base_uri": "https://localhost:8080/"
        },
        "id": "urHwACeanEnE",
        "outputId": "7a0efb44-93be-4bc5-e16e-49dd0f37c369"
      },
      "outputs": [
        {
          "name": "stdout",
          "output_type": "stream",
          "text": [
            "Looking in indexes: https://pypi.org/simple, https://us-python.pkg.dev/colab-wheels/public/simple/\n",
            "Requirement already satisfied: kaggle in /usr/local/lib/python3.7/dist-packages (1.5.12)\n",
            "Requirement already satisfied: certifi in /usr/local/lib/python3.7/dist-packages (from kaggle) (2022.5.18.1)\n",
            "Requirement already satisfied: urllib3 in /usr/local/lib/python3.7/dist-packages (from kaggle) (1.24.3)\n",
            "Requirement already satisfied: tqdm in /usr/local/lib/python3.7/dist-packages (from kaggle) (4.64.0)\n",
            "Requirement already satisfied: python-slugify in /usr/local/lib/python3.7/dist-packages (from kaggle) (6.1.2)\n",
            "Requirement already satisfied: python-dateutil in /usr/local/lib/python3.7/dist-packages (from kaggle) (2.8.2)\n",
            "Requirement already satisfied: requests in /usr/local/lib/python3.7/dist-packages (from kaggle) (2.23.0)\n",
            "Requirement already satisfied: six>=1.10 in /usr/local/lib/python3.7/dist-packages (from kaggle) (1.15.0)\n",
            "Requirement already satisfied: text-unidecode>=1.3 in /usr/local/lib/python3.7/dist-packages (from python-slugify->kaggle) (1.3)\n",
            "Requirement already satisfied: idna<3,>=2.5 in /usr/local/lib/python3.7/dist-packages (from requests->kaggle) (2.10)\n",
            "Requirement already satisfied: chardet<4,>=3.0.2 in /usr/local/lib/python3.7/dist-packages (from requests->kaggle) (3.0.4)\n"
          ]
        }
      ],
      "source": [
        "!pip install kaggle"
      ]
    },
    {
      "cell_type": "code",
      "execution_count": null,
      "metadata": {
        "colab": {
          "base_uri": "https://localhost:8080/"
        },
        "id": "DX5WtrTkr-rU",
        "outputId": "cfc0ac42-d467-44bd-9c89-5fe83012010e"
      },
      "outputs": [
        {
          "name": "stdout",
          "output_type": "stream",
          "text": [
            "mkdir: cannot create directory ‘/root/.kaggle’: File exists\n"
          ]
        }
      ],
      "source": [
        "!mkdir ~/.kaggle"
      ]
    },
    {
      "cell_type": "code",
      "execution_count": null,
      "metadata": {
        "id": "OYUigD0TsG6Y"
      },
      "outputs": [],
      "source": [
        "!cp kaggle.json ~/.kaggle/"
      ]
    },
    {
      "cell_type": "code",
      "execution_count": null,
      "metadata": {
        "id": "ZZ2ZF_B0sOxX"
      },
      "outputs": [],
      "source": [
        "!chmod 600 ~/.kaggle/kaggle.json"
      ]
    },
    {
      "cell_type": "code",
      "execution_count": null,
      "metadata": {
        "colab": {
          "base_uri": "https://localhost:8080/"
        },
        "id": "Jl2fs7uYs2Q_",
        "outputId": "f0a977a0-59ad-4d58-cfe6-253c4027e63d"
      },
      "outputs": [
        {
          "name": "stdout",
          "output_type": "stream",
          "text": [
            "Downloading ocular-disease-recognition-odir5k.zip to /content\n",
            " 98% 1.59G/1.62G [00:49<00:00, 32.9MB/s]\n",
            "100% 1.62G/1.62G [00:49<00:00, 35.3MB/s]\n"
          ]
        }
      ],
      "source": [
        "!kaggle datasets download andrewmvd/ocular-disease-recognition-odir5k"
      ]
    },
    {
      "cell_type": "code",
      "execution_count": null,
      "metadata": {
        "colab": {
          "base_uri": "https://localhost:8080/"
        },
        "id": "abIuyJqptC8-",
        "outputId": "e32e27a9-67cd-435b-c577-007904a7fc26"
      },
      "outputs": [],
      "source": [
        "!unzip ocular-disease-recognition-odir5k.zip"
      ]
    },
    {
      "cell_type": "markdown",
      "metadata": {
        "id": "Js2C8M0Zunwy"
      },
      "source": [
        "# Setup"
      ]
    },
    {
      "cell_type": "markdown",
      "metadata": {
        "id": "Tdftomv7xGlN"
      },
      "source": [
        "## Import"
      ]
    },
    {
      "cell_type": "code",
      "execution_count": null,
      "metadata": {
        "id": "Vush3GdItU0D"
      },
      "outputs": [],
      "source": [
        "import pandas as pd\n",
        "# import cv2\n",
        "# import os.path\n",
        "# from google.colab.patches import cv2_imshow\n",
        "import numpy as np\n",
        "import random\n",
        "import matplotlib.pyplot as plt\n",
        "from sklearn.preprocessing import StandardScaler\n",
        "# from functools import lru_cache, wraps\n",
        "import torch.utils.data\n",
        "import torchvision\n",
        "import sklearn.metrics\n",
        "from sklearn.model_selection import train_test_split\n",
        "from PIL import Image"
      ]
    },
    {
      "cell_type": "markdown",
      "metadata": {
        "id": "KgJLerYaV9YW"
      },
      "source": [
        "## Seed"
      ]
    },
    {
      "cell_type": "code",
      "execution_count": null,
      "metadata": {
        "id": "CU-nDhOoV8yY"
      },
      "outputs": [],
      "source": [
        "GLOBAL_SEED = 13520157+10118011\n",
        "torch.manual_seed(GLOBAL_SEED)\n",
        "torch.cuda.manual_seed(GLOBAL_SEED)\n",
        "random.seed(GLOBAL_SEED)\n",
        "np.random.seed(GLOBAL_SEED)"
      ]
    },
    {
      "cell_type": "markdown",
      "metadata": {
        "id": "DdmAngOkLgB-"
      },
      "source": [
        "## Global Utilities"
      ]
    },
    {
      "cell_type": "code",
      "execution_count": null,
      "metadata": {
        "id": "5TybIhVpLjl0"
      },
      "outputs": [],
      "source": [
        "scaler = StandardScaler()\n",
        "def print_eval(cf_matrix, classes):\n",
        "    fpm = np.sum(cf_matrix, axis=0)\n",
        "    fnm = np.sum(cf_matrix, axis=1)\n",
        "    rec = [(cf_matrix[i][i]) / (fnm[i] + 1e-10) for i in range(len(cf_matrix))]\n",
        "    prec = [(cf_matrix[i][i]) / (fpm[i] + 1e-10)for i in range(len(cf_matrix))]\n",
        "    f1 = [2 * prec[i] * rec[i] / (prec[i] + rec[i] + 1e-10) for i in range(len(cf_matrix))]\n",
        "    raw_m = np.vstack((rec, prec, f1))\n",
        "    acc = np.trace(cf_matrix) / (np.sum(cf_matrix) + 1e-10)\n",
        "    print(f\"\\nTotal Accuracy: {acc:.4f}\")\n",
        "    print(pd.DataFrame(raw_m, index = [\"Recall\", \"Precision\", \"F1 Score\"], columns=[i for i in classes]))\n",
        "def filters(row):\n",
        "  try:\n",
        "    Image.open(row['filepath'])\n",
        "    if (\"cataract\" in row['Left-Diagnostic Keywords'] and \"left\" in row['filepath']) or (\"cataract\" in row['Right-Diagnostic Keywords'] and \"right\" in row['filepath']):\n",
        "      return True\n",
        "    if (\"normal\" in row['Left-Diagnostic Keywords'] and \"left\" in row['filepath']) or (\"normal\" in row['Right-Diagnostic Keywords'] and \"right\" in row['filepath']):\n",
        "      return True\n",
        "    return False\n",
        "  except:\n",
        "    return False\n",
        "def labelling(row):\n",
        "  if (\"cataract\" in row['Left-Diagnostic Keywords'] and \"left\" in row['filepath']) or (\"cataract\" in row['Right-Diagnostic Keywords'] and \"right\" in row['filepath']):\n",
        "    return 1\n",
        "  elif (\"normal\" in row['Left-Diagnostic Keywords'] and \"left\" in row['filepath']) or (\"normal\" in row['Right-Diagnostic Keywords'] and \"right\" in row['filepath']):\n",
        "    return 0"
      ]
    },
    {
      "cell_type": "markdown",
      "metadata": {
        "id": "sMDTet2_xIJG"
      },
      "source": [
        "## Load and Cleaning Data"
      ]
    },
    {
      "cell_type": "code",
      "execution_count": null,
      "metadata": {
        "colab": {
          "base_uri": "https://localhost:8080/"
        },
        "id": "_vdIk8oixKqi",
        "outputId": "f8eeb383-4320-459f-e972-a9893e898eba"
      },
      "outputs": [
        {
          "name": "stderr",
          "output_type": "stream",
          "text": [
            "/usr/local/lib/python3.7/dist-packages/ipykernel_launcher.py:6: SettingWithCopyWarning: \n",
            "A value is trying to be set on a copy of a slice from a DataFrame.\n",
            "Try using .loc[row_indexer,col_indexer] = value instead\n",
            "\n",
            "See the caveats in the documentation: https://pandas.pydata.org/pandas-docs/stable/user_guide/indexing.html#returning-a-view-versus-a-copy\n",
            "  \n"
          ]
        }
      ],
      "source": [
        "df = pd.read_csv(\"/content/full_df.csv\")\n",
        "df.dropna(inplace=True)\n",
        "df['filepath'] = df['filepath'].str.slice_replace(start=0, stop=66, repl='/content/preprocessed_images')\n",
        "df = df[['Patient Age', 'Patient Sex', 'Left-Diagnostic Keywords', 'Right-Diagnostic Keywords', 'filepath']] # REORDERING\n",
        "df = df.loc[df.apply(filters, axis=1), :]\n",
        "df['labels'] = df.apply(labelling, axis=1)\n",
        "df.reset_index(drop=True, inplace=True)"
      ]
    },
    {
      "cell_type": "code",
      "execution_count": null,
      "metadata": {
        "id": "xSV1dG3HiEoi"
      },
      "outputs": [],
      "source": [
        "df_picked = pd.concat([df.loc[df['labels'] == 0, :].sample(n=300), df.loc[df['labels'] == 1, :].sample(n=300)])\n",
        "df_picked.reset_index(drop=True, inplace=True)"
      ]
    },
    {
      "cell_type": "code",
      "execution_count": null,
      "metadata": {
        "colab": {
          "base_uri": "https://localhost:8080/",
          "height": 424
        },
        "id": "isDFLK3vrSRw",
        "outputId": "808cad3f-ec0f-4ba4-edcb-a55396515477"
      },
      "outputs": [
        {
          "data": {
            "text/html": [
              "\n",
              "  <div id=\"df-a1fc4bea-a460-490d-a031-c86c85eb9548\">\n",
              "    <div class=\"colab-df-container\">\n",
              "      <div>\n",
              "<style scoped>\n",
              "    .dataframe tbody tr th:only-of-type {\n",
              "        vertical-align: middle;\n",
              "    }\n",
              "\n",
              "    .dataframe tbody tr th {\n",
              "        vertical-align: top;\n",
              "    }\n",
              "\n",
              "    .dataframe thead th {\n",
              "        text-align: right;\n",
              "    }\n",
              "</style>\n",
              "<table border=\"1\" class=\"dataframe\">\n",
              "  <thead>\n",
              "    <tr style=\"text-align: right;\">\n",
              "      <th></th>\n",
              "      <th>Patient Age</th>\n",
              "      <th>Patient Sex</th>\n",
              "      <th>Left-Diagnostic Keywords</th>\n",
              "      <th>Right-Diagnostic Keywords</th>\n",
              "      <th>filepath</th>\n",
              "      <th>labels</th>\n",
              "    </tr>\n",
              "  </thead>\n",
              "  <tbody>\n",
              "    <tr>\n",
              "      <th>0</th>\n",
              "      <td>25</td>\n",
              "      <td>Male</td>\n",
              "      <td>normal fundus</td>\n",
              "      <td>normal fundus</td>\n",
              "      <td>/content/preprocessed_images/2642_left.jpg</td>\n",
              "      <td>0</td>\n",
              "    </tr>\n",
              "    <tr>\n",
              "      <th>1</th>\n",
              "      <td>72</td>\n",
              "      <td>Male</td>\n",
              "      <td>normal fundus</td>\n",
              "      <td>normal fundus</td>\n",
              "      <td>/content/preprocessed_images/2883_left.jpg</td>\n",
              "      <td>0</td>\n",
              "    </tr>\n",
              "    <tr>\n",
              "      <th>2</th>\n",
              "      <td>56</td>\n",
              "      <td>Male</td>\n",
              "      <td>normal fundus</td>\n",
              "      <td>normal fundus</td>\n",
              "      <td>/content/preprocessed_images/2659_left.jpg</td>\n",
              "      <td>0</td>\n",
              "    </tr>\n",
              "    <tr>\n",
              "      <th>3</th>\n",
              "      <td>69</td>\n",
              "      <td>Male</td>\n",
              "      <td>normal fundus</td>\n",
              "      <td>normal fundus</td>\n",
              "      <td>/content/preprocessed_images/2513_right.jpg</td>\n",
              "      <td>0</td>\n",
              "    </tr>\n",
              "    <tr>\n",
              "      <th>4</th>\n",
              "      <td>63</td>\n",
              "      <td>Female</td>\n",
              "      <td>normal fundus</td>\n",
              "      <td>normal fundus</td>\n",
              "      <td>/content/preprocessed_images/2422_left.jpg</td>\n",
              "      <td>0</td>\n",
              "    </tr>\n",
              "    <tr>\n",
              "      <th>...</th>\n",
              "      <td>...</td>\n",
              "      <td>...</td>\n",
              "      <td>...</td>\n",
              "      <td>...</td>\n",
              "      <td>...</td>\n",
              "      <td>...</td>\n",
              "    </tr>\n",
              "    <tr>\n",
              "      <th>595</th>\n",
              "      <td>76</td>\n",
              "      <td>Female</td>\n",
              "      <td>cataract</td>\n",
              "      <td>normal fundus</td>\n",
              "      <td>/content/preprocessed_images/2136_left.jpg</td>\n",
              "      <td>1</td>\n",
              "    </tr>\n",
              "    <tr>\n",
              "      <th>596</th>\n",
              "      <td>70</td>\n",
              "      <td>Male</td>\n",
              "      <td>lens dust，cataract</td>\n",
              "      <td>cataract，lens dust</td>\n",
              "      <td>/content/preprocessed_images/2251_right.jpg</td>\n",
              "      <td>1</td>\n",
              "    </tr>\n",
              "    <tr>\n",
              "      <th>597</th>\n",
              "      <td>69</td>\n",
              "      <td>Male</td>\n",
              "      <td>cataract</td>\n",
              "      <td>cataract</td>\n",
              "      <td>/content/preprocessed_images/2246_left.jpg</td>\n",
              "      <td>1</td>\n",
              "    </tr>\n",
              "    <tr>\n",
              "      <th>598</th>\n",
              "      <td>64</td>\n",
              "      <td>Female</td>\n",
              "      <td>cataract</td>\n",
              "      <td>cataract</td>\n",
              "      <td>/content/preprocessed_images/2108_left.jpg</td>\n",
              "      <td>1</td>\n",
              "    </tr>\n",
              "    <tr>\n",
              "      <th>599</th>\n",
              "      <td>68</td>\n",
              "      <td>Female</td>\n",
              "      <td>cataract</td>\n",
              "      <td>cataract</td>\n",
              "      <td>/content/preprocessed_images/2219_right.jpg</td>\n",
              "      <td>1</td>\n",
              "    </tr>\n",
              "  </tbody>\n",
              "</table>\n",
              "<p>600 rows × 6 columns</p>\n",
              "</div>\n",
              "      <button class=\"colab-df-convert\" onclick=\"convertToInteractive('df-a1fc4bea-a460-490d-a031-c86c85eb9548')\"\n",
              "              title=\"Convert this dataframe to an interactive table.\"\n",
              "              style=\"display:none;\">\n",
              "        \n",
              "  <svg xmlns=\"http://www.w3.org/2000/svg\" height=\"24px\"viewBox=\"0 0 24 24\"\n",
              "       width=\"24px\">\n",
              "    <path d=\"M0 0h24v24H0V0z\" fill=\"none\"/>\n",
              "    <path d=\"M18.56 5.44l.94 2.06.94-2.06 2.06-.94-2.06-.94-.94-2.06-.94 2.06-2.06.94zm-11 1L8.5 8.5l.94-2.06 2.06-.94-2.06-.94L8.5 2.5l-.94 2.06-2.06.94zm10 10l.94 2.06.94-2.06 2.06-.94-2.06-.94-.94-2.06-.94 2.06-2.06.94z\"/><path d=\"M17.41 7.96l-1.37-1.37c-.4-.4-.92-.59-1.43-.59-.52 0-1.04.2-1.43.59L10.3 9.45l-7.72 7.72c-.78.78-.78 2.05 0 2.83L4 21.41c.39.39.9.59 1.41.59.51 0 1.02-.2 1.41-.59l7.78-7.78 2.81-2.81c.8-.78.8-2.07 0-2.86zM5.41 20L4 18.59l7.72-7.72 1.47 1.35L5.41 20z\"/>\n",
              "  </svg>\n",
              "      </button>\n",
              "      \n",
              "  <style>\n",
              "    .colab-df-container {\n",
              "      display:flex;\n",
              "      flex-wrap:wrap;\n",
              "      gap: 12px;\n",
              "    }\n",
              "\n",
              "    .colab-df-convert {\n",
              "      background-color: #E8F0FE;\n",
              "      border: none;\n",
              "      border-radius: 50%;\n",
              "      cursor: pointer;\n",
              "      display: none;\n",
              "      fill: #1967D2;\n",
              "      height: 32px;\n",
              "      padding: 0 0 0 0;\n",
              "      width: 32px;\n",
              "    }\n",
              "\n",
              "    .colab-df-convert:hover {\n",
              "      background-color: #E2EBFA;\n",
              "      box-shadow: 0px 1px 2px rgba(60, 64, 67, 0.3), 0px 1px 3px 1px rgba(60, 64, 67, 0.15);\n",
              "      fill: #174EA6;\n",
              "    }\n",
              "\n",
              "    [theme=dark] .colab-df-convert {\n",
              "      background-color: #3B4455;\n",
              "      fill: #D2E3FC;\n",
              "    }\n",
              "\n",
              "    [theme=dark] .colab-df-convert:hover {\n",
              "      background-color: #434B5C;\n",
              "      box-shadow: 0px 1px 3px 1px rgba(0, 0, 0, 0.15);\n",
              "      filter: drop-shadow(0px 1px 2px rgba(0, 0, 0, 0.3));\n",
              "      fill: #FFFFFF;\n",
              "    }\n",
              "  </style>\n",
              "\n",
              "      <script>\n",
              "        const buttonEl =\n",
              "          document.querySelector('#df-a1fc4bea-a460-490d-a031-c86c85eb9548 button.colab-df-convert');\n",
              "        buttonEl.style.display =\n",
              "          google.colab.kernel.accessAllowed ? 'block' : 'none';\n",
              "\n",
              "        async function convertToInteractive(key) {\n",
              "          const element = document.querySelector('#df-a1fc4bea-a460-490d-a031-c86c85eb9548');\n",
              "          const dataTable =\n",
              "            await google.colab.kernel.invokeFunction('convertToInteractive',\n",
              "                                                     [key], {});\n",
              "          if (!dataTable) return;\n",
              "\n",
              "          const docLinkHtml = 'Like what you see? Visit the ' +\n",
              "            '<a target=\"_blank\" href=https://colab.research.google.com/notebooks/data_table.ipynb>data table notebook</a>'\n",
              "            + ' to learn more about interactive tables.';\n",
              "          element.innerHTML = '';\n",
              "          dataTable['output_type'] = 'display_data';\n",
              "          await google.colab.output.renderOutput(dataTable, element);\n",
              "          const docLink = document.createElement('div');\n",
              "          docLink.innerHTML = docLinkHtml;\n",
              "          element.appendChild(docLink);\n",
              "        }\n",
              "      </script>\n",
              "    </div>\n",
              "  </div>\n",
              "  "
            ],
            "text/plain": [
              "     Patient Age Patient Sex Left-Diagnostic Keywords  \\\n",
              "0             25        Male            normal fundus   \n",
              "1             72        Male            normal fundus   \n",
              "2             56        Male            normal fundus   \n",
              "3             69        Male            normal fundus   \n",
              "4             63      Female            normal fundus   \n",
              "..           ...         ...                      ...   \n",
              "595           76      Female                 cataract   \n",
              "596           70        Male       lens dust，cataract   \n",
              "597           69        Male                 cataract   \n",
              "598           64      Female                 cataract   \n",
              "599           68      Female                 cataract   \n",
              "\n",
              "    Right-Diagnostic Keywords                                     filepath  \\\n",
              "0               normal fundus   /content/preprocessed_images/2642_left.jpg   \n",
              "1               normal fundus   /content/preprocessed_images/2883_left.jpg   \n",
              "2               normal fundus   /content/preprocessed_images/2659_left.jpg   \n",
              "3               normal fundus  /content/preprocessed_images/2513_right.jpg   \n",
              "4               normal fundus   /content/preprocessed_images/2422_left.jpg   \n",
              "..                        ...                                          ...   \n",
              "595             normal fundus   /content/preprocessed_images/2136_left.jpg   \n",
              "596        cataract，lens dust  /content/preprocessed_images/2251_right.jpg   \n",
              "597                  cataract   /content/preprocessed_images/2246_left.jpg   \n",
              "598                  cataract   /content/preprocessed_images/2108_left.jpg   \n",
              "599                  cataract  /content/preprocessed_images/2219_right.jpg   \n",
              "\n",
              "     labels  \n",
              "0         0  \n",
              "1         0  \n",
              "2         0  \n",
              "3         0  \n",
              "4         0  \n",
              "..      ...  \n",
              "595       1  \n",
              "596       1  \n",
              "597       1  \n",
              "598       1  \n",
              "599       1  \n",
              "\n",
              "[600 rows x 6 columns]"
            ]
          },
          "execution_count": 23,
          "metadata": {},
          "output_type": "execute_result"
        }
      ],
      "source": [
        "df_picked"
      ]
    },
    {
      "cell_type": "markdown",
      "metadata": {
        "id": "-orPvMmvVjA9"
      },
      "source": [
        "## Train and Testing Split"
      ]
    },
    {
      "cell_type": "code",
      "execution_count": null,
      "metadata": {
        "id": "9MWKjQmnViup"
      },
      "outputs": [],
      "source": [
        "df_train, df_test = train_test_split(df_picked, test_size=0.2, random_state=GLOBAL_SEED)\n",
        "df_train.reset_index(drop=True, inplace=True)\n",
        "df_test.reset_index(drop=True, inplace=True)"
      ]
    },
    {
      "cell_type": "code",
      "execution_count": null,
      "metadata": {
        "colab": {
          "base_uri": "https://localhost:8080/",
          "height": 424
        },
        "id": "DsXbkNrOXEcS",
        "outputId": "aaf45a4b-7a6d-4dad-8842-b48efb6037d0"
      },
      "outputs": [
        {
          "data": {
            "text/html": [
              "\n",
              "  <div id=\"df-ce8837a4-0aa8-4d33-b329-905188666b72\">\n",
              "    <div class=\"colab-df-container\">\n",
              "      <div>\n",
              "<style scoped>\n",
              "    .dataframe tbody tr th:only-of-type {\n",
              "        vertical-align: middle;\n",
              "    }\n",
              "\n",
              "    .dataframe tbody tr th {\n",
              "        vertical-align: top;\n",
              "    }\n",
              "\n",
              "    .dataframe thead th {\n",
              "        text-align: right;\n",
              "    }\n",
              "</style>\n",
              "<table border=\"1\" class=\"dataframe\">\n",
              "  <thead>\n",
              "    <tr style=\"text-align: right;\">\n",
              "      <th></th>\n",
              "      <th>Patient Age</th>\n",
              "      <th>Patient Sex</th>\n",
              "      <th>Left-Diagnostic Keywords</th>\n",
              "      <th>Right-Diagnostic Keywords</th>\n",
              "      <th>filepath</th>\n",
              "      <th>labels</th>\n",
              "    </tr>\n",
              "  </thead>\n",
              "  <tbody>\n",
              "    <tr>\n",
              "      <th>0</th>\n",
              "      <td>60</td>\n",
              "      <td>Female</td>\n",
              "      <td>normal fundus</td>\n",
              "      <td>normal fundus</td>\n",
              "      <td>/content/preprocessed_images/3210_left.jpg</td>\n",
              "      <td>0</td>\n",
              "    </tr>\n",
              "    <tr>\n",
              "      <th>1</th>\n",
              "      <td>56</td>\n",
              "      <td>Male</td>\n",
              "      <td>normal fundus</td>\n",
              "      <td>normal fundus</td>\n",
              "      <td>/content/preprocessed_images/2659_left.jpg</td>\n",
              "      <td>0</td>\n",
              "    </tr>\n",
              "    <tr>\n",
              "      <th>2</th>\n",
              "      <td>44</td>\n",
              "      <td>Male</td>\n",
              "      <td>normal fundus</td>\n",
              "      <td>macular epiretinal membrane</td>\n",
              "      <td>/content/preprocessed_images/140_left.jpg</td>\n",
              "      <td>0</td>\n",
              "    </tr>\n",
              "    <tr>\n",
              "      <th>3</th>\n",
              "      <td>51</td>\n",
              "      <td>Female</td>\n",
              "      <td>normal fundus</td>\n",
              "      <td>normal fundus</td>\n",
              "      <td>/content/preprocessed_images/3431_right.jpg</td>\n",
              "      <td>0</td>\n",
              "    </tr>\n",
              "    <tr>\n",
              "      <th>4</th>\n",
              "      <td>80</td>\n",
              "      <td>Female</td>\n",
              "      <td>lens dust，normal fundus</td>\n",
              "      <td>normal fundus</td>\n",
              "      <td>/content/preprocessed_images/3037_right.jpg</td>\n",
              "      <td>0</td>\n",
              "    </tr>\n",
              "    <tr>\n",
              "      <th>...</th>\n",
              "      <td>...</td>\n",
              "      <td>...</td>\n",
              "      <td>...</td>\n",
              "      <td>...</td>\n",
              "      <td>...</td>\n",
              "      <td>...</td>\n",
              "    </tr>\n",
              "    <tr>\n",
              "      <th>475</th>\n",
              "      <td>76</td>\n",
              "      <td>Male</td>\n",
              "      <td>lens dust，cataract</td>\n",
              "      <td>cataract，lens dust</td>\n",
              "      <td>/content/preprocessed_images/2244_right.jpg</td>\n",
              "      <td>1</td>\n",
              "    </tr>\n",
              "    <tr>\n",
              "      <th>476</th>\n",
              "      <td>56</td>\n",
              "      <td>Female</td>\n",
              "      <td>normal fundus</td>\n",
              "      <td>normal fundus</td>\n",
              "      <td>/content/preprocessed_images/2438_right.jpg</td>\n",
              "      <td>0</td>\n",
              "    </tr>\n",
              "    <tr>\n",
              "      <th>477</th>\n",
              "      <td>64</td>\n",
              "      <td>Male</td>\n",
              "      <td>cataract</td>\n",
              "      <td>cataract</td>\n",
              "      <td>/content/preprocessed_images/2240_right.jpg</td>\n",
              "      <td>1</td>\n",
              "    </tr>\n",
              "    <tr>\n",
              "      <th>478</th>\n",
              "      <td>63</td>\n",
              "      <td>Male</td>\n",
              "      <td>cataract</td>\n",
              "      <td>normal fundus</td>\n",
              "      <td>/content/preprocessed_images/2175_left.jpg</td>\n",
              "      <td>1</td>\n",
              "    </tr>\n",
              "    <tr>\n",
              "      <th>479</th>\n",
              "      <td>50</td>\n",
              "      <td>Male</td>\n",
              "      <td>normal fundus</td>\n",
              "      <td>normal fundus</td>\n",
              "      <td>/content/preprocessed_images/3423_right.jpg</td>\n",
              "      <td>0</td>\n",
              "    </tr>\n",
              "  </tbody>\n",
              "</table>\n",
              "<p>480 rows × 6 columns</p>\n",
              "</div>\n",
              "      <button class=\"colab-df-convert\" onclick=\"convertToInteractive('df-ce8837a4-0aa8-4d33-b329-905188666b72')\"\n",
              "              title=\"Convert this dataframe to an interactive table.\"\n",
              "              style=\"display:none;\">\n",
              "        \n",
              "  <svg xmlns=\"http://www.w3.org/2000/svg\" height=\"24px\"viewBox=\"0 0 24 24\"\n",
              "       width=\"24px\">\n",
              "    <path d=\"M0 0h24v24H0V0z\" fill=\"none\"/>\n",
              "    <path d=\"M18.56 5.44l.94 2.06.94-2.06 2.06-.94-2.06-.94-.94-2.06-.94 2.06-2.06.94zm-11 1L8.5 8.5l.94-2.06 2.06-.94-2.06-.94L8.5 2.5l-.94 2.06-2.06.94zm10 10l.94 2.06.94-2.06 2.06-.94-2.06-.94-.94-2.06-.94 2.06-2.06.94z\"/><path d=\"M17.41 7.96l-1.37-1.37c-.4-.4-.92-.59-1.43-.59-.52 0-1.04.2-1.43.59L10.3 9.45l-7.72 7.72c-.78.78-.78 2.05 0 2.83L4 21.41c.39.39.9.59 1.41.59.51 0 1.02-.2 1.41-.59l7.78-7.78 2.81-2.81c.8-.78.8-2.07 0-2.86zM5.41 20L4 18.59l7.72-7.72 1.47 1.35L5.41 20z\"/>\n",
              "  </svg>\n",
              "      </button>\n",
              "      \n",
              "  <style>\n",
              "    .colab-df-container {\n",
              "      display:flex;\n",
              "      flex-wrap:wrap;\n",
              "      gap: 12px;\n",
              "    }\n",
              "\n",
              "    .colab-df-convert {\n",
              "      background-color: #E8F0FE;\n",
              "      border: none;\n",
              "      border-radius: 50%;\n",
              "      cursor: pointer;\n",
              "      display: none;\n",
              "      fill: #1967D2;\n",
              "      height: 32px;\n",
              "      padding: 0 0 0 0;\n",
              "      width: 32px;\n",
              "    }\n",
              "\n",
              "    .colab-df-convert:hover {\n",
              "      background-color: #E2EBFA;\n",
              "      box-shadow: 0px 1px 2px rgba(60, 64, 67, 0.3), 0px 1px 3px 1px rgba(60, 64, 67, 0.15);\n",
              "      fill: #174EA6;\n",
              "    }\n",
              "\n",
              "    [theme=dark] .colab-df-convert {\n",
              "      background-color: #3B4455;\n",
              "      fill: #D2E3FC;\n",
              "    }\n",
              "\n",
              "    [theme=dark] .colab-df-convert:hover {\n",
              "      background-color: #434B5C;\n",
              "      box-shadow: 0px 1px 3px 1px rgba(0, 0, 0, 0.15);\n",
              "      filter: drop-shadow(0px 1px 2px rgba(0, 0, 0, 0.3));\n",
              "      fill: #FFFFFF;\n",
              "    }\n",
              "  </style>\n",
              "\n",
              "      <script>\n",
              "        const buttonEl =\n",
              "          document.querySelector('#df-ce8837a4-0aa8-4d33-b329-905188666b72 button.colab-df-convert');\n",
              "        buttonEl.style.display =\n",
              "          google.colab.kernel.accessAllowed ? 'block' : 'none';\n",
              "\n",
              "        async function convertToInteractive(key) {\n",
              "          const element = document.querySelector('#df-ce8837a4-0aa8-4d33-b329-905188666b72');\n",
              "          const dataTable =\n",
              "            await google.colab.kernel.invokeFunction('convertToInteractive',\n",
              "                                                     [key], {});\n",
              "          if (!dataTable) return;\n",
              "\n",
              "          const docLinkHtml = 'Like what you see? Visit the ' +\n",
              "            '<a target=\"_blank\" href=https://colab.research.google.com/notebooks/data_table.ipynb>data table notebook</a>'\n",
              "            + ' to learn more about interactive tables.';\n",
              "          element.innerHTML = '';\n",
              "          dataTable['output_type'] = 'display_data';\n",
              "          await google.colab.output.renderOutput(dataTable, element);\n",
              "          const docLink = document.createElement('div');\n",
              "          docLink.innerHTML = docLinkHtml;\n",
              "          element.appendChild(docLink);\n",
              "        }\n",
              "      </script>\n",
              "    </div>\n",
              "  </div>\n",
              "  "
            ],
            "text/plain": [
              "     Patient Age Patient Sex Left-Diagnostic Keywords  \\\n",
              "0             60      Female            normal fundus   \n",
              "1             56        Male            normal fundus   \n",
              "2             44        Male            normal fundus   \n",
              "3             51      Female            normal fundus   \n",
              "4             80      Female  lens dust，normal fundus   \n",
              "..           ...         ...                      ...   \n",
              "475           76        Male       lens dust，cataract   \n",
              "476           56      Female            normal fundus   \n",
              "477           64        Male                 cataract   \n",
              "478           63        Male                 cataract   \n",
              "479           50        Male            normal fundus   \n",
              "\n",
              "       Right-Diagnostic Keywords                                     filepath  \\\n",
              "0                  normal fundus   /content/preprocessed_images/3210_left.jpg   \n",
              "1                  normal fundus   /content/preprocessed_images/2659_left.jpg   \n",
              "2    macular epiretinal membrane    /content/preprocessed_images/140_left.jpg   \n",
              "3                  normal fundus  /content/preprocessed_images/3431_right.jpg   \n",
              "4                  normal fundus  /content/preprocessed_images/3037_right.jpg   \n",
              "..                           ...                                          ...   \n",
              "475           cataract，lens dust  /content/preprocessed_images/2244_right.jpg   \n",
              "476                normal fundus  /content/preprocessed_images/2438_right.jpg   \n",
              "477                     cataract  /content/preprocessed_images/2240_right.jpg   \n",
              "478                normal fundus   /content/preprocessed_images/2175_left.jpg   \n",
              "479                normal fundus  /content/preprocessed_images/3423_right.jpg   \n",
              "\n",
              "     labels  \n",
              "0         0  \n",
              "1         0  \n",
              "2         0  \n",
              "3         0  \n",
              "4         0  \n",
              "..      ...  \n",
              "475       1  \n",
              "476       0  \n",
              "477       1  \n",
              "478       1  \n",
              "479       0  \n",
              "\n",
              "[480 rows x 6 columns]"
            ]
          },
          "execution_count": 25,
          "metadata": {},
          "output_type": "execute_result"
        }
      ],
      "source": [
        "df_train"
      ]
    },
    {
      "cell_type": "code",
      "execution_count": null,
      "metadata": {
        "colab": {
          "base_uri": "https://localhost:8080/",
          "height": 424
        },
        "id": "jyW5w4DkXGSs",
        "outputId": "e2f7159d-ba92-4a7d-89ff-c01767efbd55"
      },
      "outputs": [
        {
          "data": {
            "text/html": [
              "\n",
              "  <div id=\"df-aaf8c5a8-ba57-4186-8eb5-0d2553614962\">\n",
              "    <div class=\"colab-df-container\">\n",
              "      <div>\n",
              "<style scoped>\n",
              "    .dataframe tbody tr th:only-of-type {\n",
              "        vertical-align: middle;\n",
              "    }\n",
              "\n",
              "    .dataframe tbody tr th {\n",
              "        vertical-align: top;\n",
              "    }\n",
              "\n",
              "    .dataframe thead th {\n",
              "        text-align: right;\n",
              "    }\n",
              "</style>\n",
              "<table border=\"1\" class=\"dataframe\">\n",
              "  <thead>\n",
              "    <tr style=\"text-align: right;\">\n",
              "      <th></th>\n",
              "      <th>Patient Age</th>\n",
              "      <th>Patient Sex</th>\n",
              "      <th>Left-Diagnostic Keywords</th>\n",
              "      <th>Right-Diagnostic Keywords</th>\n",
              "      <th>filepath</th>\n",
              "      <th>labels</th>\n",
              "    </tr>\n",
              "  </thead>\n",
              "  <tbody>\n",
              "    <tr>\n",
              "      <th>0</th>\n",
              "      <td>48</td>\n",
              "      <td>Male</td>\n",
              "      <td>normal fundus</td>\n",
              "      <td>cataract</td>\n",
              "      <td>/content/preprocessed_images/2218_right.jpg</td>\n",
              "      <td>1</td>\n",
              "    </tr>\n",
              "    <tr>\n",
              "      <th>1</th>\n",
              "      <td>48</td>\n",
              "      <td>Male</td>\n",
              "      <td>normal fundus</td>\n",
              "      <td>normal fundus</td>\n",
              "      <td>/content/preprocessed_images/2723_left.jpg</td>\n",
              "      <td>0</td>\n",
              "    </tr>\n",
              "    <tr>\n",
              "      <th>2</th>\n",
              "      <td>52</td>\n",
              "      <td>Male</td>\n",
              "      <td>normal fundus</td>\n",
              "      <td>normal fundus</td>\n",
              "      <td>/content/preprocessed_images/3050_left.jpg</td>\n",
              "      <td>0</td>\n",
              "    </tr>\n",
              "    <tr>\n",
              "      <th>3</th>\n",
              "      <td>54</td>\n",
              "      <td>Female</td>\n",
              "      <td>cataract</td>\n",
              "      <td>cataract</td>\n",
              "      <td>/content/preprocessed_images/2134_right.jpg</td>\n",
              "      <td>1</td>\n",
              "    </tr>\n",
              "    <tr>\n",
              "      <th>4</th>\n",
              "      <td>54</td>\n",
              "      <td>Female</td>\n",
              "      <td>normal fundus</td>\n",
              "      <td>epiretinal membrane</td>\n",
              "      <td>/content/preprocessed_images/60_left.jpg</td>\n",
              "      <td>0</td>\n",
              "    </tr>\n",
              "    <tr>\n",
              "      <th>...</th>\n",
              "      <td>...</td>\n",
              "      <td>...</td>\n",
              "      <td>...</td>\n",
              "      <td>...</td>\n",
              "      <td>...</td>\n",
              "      <td>...</td>\n",
              "    </tr>\n",
              "    <tr>\n",
              "      <th>115</th>\n",
              "      <td>43</td>\n",
              "      <td>Male</td>\n",
              "      <td>normal fundus</td>\n",
              "      <td>chorioretinal atrophy</td>\n",
              "      <td>/content/preprocessed_images/69_left.jpg</td>\n",
              "      <td>0</td>\n",
              "    </tr>\n",
              "    <tr>\n",
              "      <th>116</th>\n",
              "      <td>63</td>\n",
              "      <td>Female</td>\n",
              "      <td>lens dust，normal fundus</td>\n",
              "      <td>normal fundus，lens dust</td>\n",
              "      <td>/content/preprocessed_images/3046_right.jpg</td>\n",
              "      <td>0</td>\n",
              "    </tr>\n",
              "    <tr>\n",
              "      <th>117</th>\n",
              "      <td>81</td>\n",
              "      <td>Female</td>\n",
              "      <td>cataract</td>\n",
              "      <td>cataract</td>\n",
              "      <td>/content/preprocessed_images/2128_left.jpg</td>\n",
              "      <td>1</td>\n",
              "    </tr>\n",
              "    <tr>\n",
              "      <th>118</th>\n",
              "      <td>64</td>\n",
              "      <td>Female</td>\n",
              "      <td>normal fundus</td>\n",
              "      <td>normal fundus</td>\n",
              "      <td>/content/preprocessed_images/2944_left.jpg</td>\n",
              "      <td>0</td>\n",
              "    </tr>\n",
              "    <tr>\n",
              "      <th>119</th>\n",
              "      <td>65</td>\n",
              "      <td>Female</td>\n",
              "      <td>cataract</td>\n",
              "      <td>cataract</td>\n",
              "      <td>/content/preprocessed_images/477_right.jpg</td>\n",
              "      <td>1</td>\n",
              "    </tr>\n",
              "  </tbody>\n",
              "</table>\n",
              "<p>120 rows × 6 columns</p>\n",
              "</div>\n",
              "      <button class=\"colab-df-convert\" onclick=\"convertToInteractive('df-aaf8c5a8-ba57-4186-8eb5-0d2553614962')\"\n",
              "              title=\"Convert this dataframe to an interactive table.\"\n",
              "              style=\"display:none;\">\n",
              "        \n",
              "  <svg xmlns=\"http://www.w3.org/2000/svg\" height=\"24px\"viewBox=\"0 0 24 24\"\n",
              "       width=\"24px\">\n",
              "    <path d=\"M0 0h24v24H0V0z\" fill=\"none\"/>\n",
              "    <path d=\"M18.56 5.44l.94 2.06.94-2.06 2.06-.94-2.06-.94-.94-2.06-.94 2.06-2.06.94zm-11 1L8.5 8.5l.94-2.06 2.06-.94-2.06-.94L8.5 2.5l-.94 2.06-2.06.94zm10 10l.94 2.06.94-2.06 2.06-.94-2.06-.94-.94-2.06-.94 2.06-2.06.94z\"/><path d=\"M17.41 7.96l-1.37-1.37c-.4-.4-.92-.59-1.43-.59-.52 0-1.04.2-1.43.59L10.3 9.45l-7.72 7.72c-.78.78-.78 2.05 0 2.83L4 21.41c.39.39.9.59 1.41.59.51 0 1.02-.2 1.41-.59l7.78-7.78 2.81-2.81c.8-.78.8-2.07 0-2.86zM5.41 20L4 18.59l7.72-7.72 1.47 1.35L5.41 20z\"/>\n",
              "  </svg>\n",
              "      </button>\n",
              "      \n",
              "  <style>\n",
              "    .colab-df-container {\n",
              "      display:flex;\n",
              "      flex-wrap:wrap;\n",
              "      gap: 12px;\n",
              "    }\n",
              "\n",
              "    .colab-df-convert {\n",
              "      background-color: #E8F0FE;\n",
              "      border: none;\n",
              "      border-radius: 50%;\n",
              "      cursor: pointer;\n",
              "      display: none;\n",
              "      fill: #1967D2;\n",
              "      height: 32px;\n",
              "      padding: 0 0 0 0;\n",
              "      width: 32px;\n",
              "    }\n",
              "\n",
              "    .colab-df-convert:hover {\n",
              "      background-color: #E2EBFA;\n",
              "      box-shadow: 0px 1px 2px rgba(60, 64, 67, 0.3), 0px 1px 3px 1px rgba(60, 64, 67, 0.15);\n",
              "      fill: #174EA6;\n",
              "    }\n",
              "\n",
              "    [theme=dark] .colab-df-convert {\n",
              "      background-color: #3B4455;\n",
              "      fill: #D2E3FC;\n",
              "    }\n",
              "\n",
              "    [theme=dark] .colab-df-convert:hover {\n",
              "      background-color: #434B5C;\n",
              "      box-shadow: 0px 1px 3px 1px rgba(0, 0, 0, 0.15);\n",
              "      filter: drop-shadow(0px 1px 2px rgba(0, 0, 0, 0.3));\n",
              "      fill: #FFFFFF;\n",
              "    }\n",
              "  </style>\n",
              "\n",
              "      <script>\n",
              "        const buttonEl =\n",
              "          document.querySelector('#df-aaf8c5a8-ba57-4186-8eb5-0d2553614962 button.colab-df-convert');\n",
              "        buttonEl.style.display =\n",
              "          google.colab.kernel.accessAllowed ? 'block' : 'none';\n",
              "\n",
              "        async function convertToInteractive(key) {\n",
              "          const element = document.querySelector('#df-aaf8c5a8-ba57-4186-8eb5-0d2553614962');\n",
              "          const dataTable =\n",
              "            await google.colab.kernel.invokeFunction('convertToInteractive',\n",
              "                                                     [key], {});\n",
              "          if (!dataTable) return;\n",
              "\n",
              "          const docLinkHtml = 'Like what you see? Visit the ' +\n",
              "            '<a target=\"_blank\" href=https://colab.research.google.com/notebooks/data_table.ipynb>data table notebook</a>'\n",
              "            + ' to learn more about interactive tables.';\n",
              "          element.innerHTML = '';\n",
              "          dataTable['output_type'] = 'display_data';\n",
              "          await google.colab.output.renderOutput(dataTable, element);\n",
              "          const docLink = document.createElement('div');\n",
              "          docLink.innerHTML = docLinkHtml;\n",
              "          element.appendChild(docLink);\n",
              "        }\n",
              "      </script>\n",
              "    </div>\n",
              "  </div>\n",
              "  "
            ],
            "text/plain": [
              "     Patient Age Patient Sex Left-Diagnostic Keywords  \\\n",
              "0             48        Male            normal fundus   \n",
              "1             48        Male            normal fundus   \n",
              "2             52        Male            normal fundus   \n",
              "3             54      Female                 cataract   \n",
              "4             54      Female            normal fundus   \n",
              "..           ...         ...                      ...   \n",
              "115           43        Male            normal fundus   \n",
              "116           63      Female  lens dust，normal fundus   \n",
              "117           81      Female                 cataract   \n",
              "118           64      Female            normal fundus   \n",
              "119           65      Female                 cataract   \n",
              "\n",
              "    Right-Diagnostic Keywords                                     filepath  \\\n",
              "0                    cataract  /content/preprocessed_images/2218_right.jpg   \n",
              "1               normal fundus   /content/preprocessed_images/2723_left.jpg   \n",
              "2               normal fundus   /content/preprocessed_images/3050_left.jpg   \n",
              "3                    cataract  /content/preprocessed_images/2134_right.jpg   \n",
              "4         epiretinal membrane     /content/preprocessed_images/60_left.jpg   \n",
              "..                        ...                                          ...   \n",
              "115     chorioretinal atrophy     /content/preprocessed_images/69_left.jpg   \n",
              "116   normal fundus，lens dust  /content/preprocessed_images/3046_right.jpg   \n",
              "117                  cataract   /content/preprocessed_images/2128_left.jpg   \n",
              "118             normal fundus   /content/preprocessed_images/2944_left.jpg   \n",
              "119                  cataract   /content/preprocessed_images/477_right.jpg   \n",
              "\n",
              "     labels  \n",
              "0         1  \n",
              "1         0  \n",
              "2         0  \n",
              "3         1  \n",
              "4         0  \n",
              "..      ...  \n",
              "115       0  \n",
              "116       0  \n",
              "117       1  \n",
              "118       0  \n",
              "119       1  \n",
              "\n",
              "[120 rows x 6 columns]"
            ]
          },
          "execution_count": 26,
          "metadata": {},
          "output_type": "execute_result"
        }
      ],
      "source": [
        "df_test"
      ]
    },
    {
      "cell_type": "markdown",
      "metadata": {
        "id": "V7o6Wz4X5EG9"
      },
      "source": [
        "## Dataset"
      ]
    },
    {
      "cell_type": "code",
      "execution_count": null,
      "metadata": {
        "id": "od6JbA4J5GcJ"
      },
      "outputs": [],
      "source": [
        "# Transformation\n",
        "class CustomResize(object):\n",
        "  def __init__(self, size):\n",
        "    self.size = size\n",
        "  def __call__(self, sample):\n",
        "    img, imgLabel = sample['img'],  sample['labels']\n",
        "    pad = torchvision.transforms.functional.resize(img, self.size)\n",
        "    return {'img': pad, 'labels': imgLabel}\n",
        "\n",
        "class CustomCenterCrop(object):\n",
        "  def __init__(self, size):\n",
        "    self.size = size\n",
        "  def __call__(self, sample):\n",
        "    img, imgLabel = sample['img'],  sample['labels']\n",
        "    cr = torchvision.transforms.functional.center_crop(img, self.size)\n",
        "    return {'img': cr, 'labels': imgLabel}\n",
        "\n",
        "class RegularToNormalizedFlattenTensor(object):\n",
        "  def __call__(self, sample):\n",
        "    img, imgLabel = sample['img'],  sample['labels']\n",
        "    timg = torchvision.transforms.functional.pil_to_tensor(img).float()\n",
        "    timg = torchvision.transforms.functional.normalize(timg, mean=(0.5), std=(0.5))\n",
        "    flat = torch.flatten(timg)\n",
        "    return {'img': flat, 'labels': imgLabel}\n",
        "\n",
        "class RegularToNormalizedMergedTensor(object):\n",
        "  def __call__(self, sample):\n",
        "    img, imgLabel = sample['img'],  sample['labels']\n",
        "    timg = torchvision.transforms.functional.pil_to_tensor(img).float()\n",
        "    timg = torchvision.transforms.functional.normalize(timg, mean=(0.5), std=(0.5))\n",
        "    return {'img': timg, 'labels': imgLabel}\n",
        "\n",
        "class RGBtoGS(object):\n",
        "  def __call__(self, sample):\n",
        "    img, imgLabel = sample['img'], sample['labels']\n",
        "    gimg = torch.reshape(torchvision.transforms.functional.rgb_to_grayscale(img), (img.size(-1), img.size(-1)))\n",
        "    return {'img': gimg, 'labels': imgLabel}\n",
        "\n",
        "class EyeDataset(torch.utils.data.Dataset):\n",
        "  def __init__(self, dataframe, transform=None):\n",
        "    self.detail_csv = dataframe\n",
        "    self.transform = transform\n",
        "  def __len__(self):\n",
        "    return len(self.detail_csv)\n",
        "  def __getitem__(self, idx):\n",
        "    if torch.is_tensor(idx):\n",
        "      idx = idx.tolist()\n",
        "    img = Image.open(self.detail_csv.iloc[idx, df.columns.get_loc('filepath')])\n",
        "    imgLabel = self.detail_csv.iloc[idx, df.columns.get_loc('labels')]\n",
        "    sample = {'img': img, 'labels': imgLabel}\n",
        "    if self.transform:\n",
        "      sample = self.transform(sample)\n",
        "    return sample\n"
      ]
    },
    {
      "cell_type": "markdown",
      "metadata": {
        "id": "QvO9Tkba96-a"
      },
      "source": [
        "# General Data Information"
      ]
    },
    {
      "cell_type": "markdown",
      "metadata": {
        "id": "N3p2HxF9-B9u"
      },
      "source": [
        "## General Distribution"
      ]
    },
    {
      "cell_type": "code",
      "execution_count": 64,
      "metadata": {
        "colab": {
          "base_uri": "https://localhost:8080/",
          "height": 491
        },
        "id": "X_CuBu5E-g_3",
        "outputId": "9cbabe76-95ae-49bf-a8b8-79606052fb60"
      },
      "outputs": [
        {
          "name": "stdout",
          "output_type": "stream",
          "text": [
            "Left Catarac: 152, Right Catarac: 148, Left Normal: 149, Right Norm: 151\n"
          ]
        },
        {
          "data": {
            "image/png": "[encoded data removed]",
            "text/plain": [
              "<Figure size 864x432 with 1 Axes>"
            ]
          },
          "metadata": {
            "needs_background": "light"
          },
          "output_type": "display_data"
        }
      ],
      "source": [
        "leftcat = len(df_picked.loc[(df_picked['Left-Diagnostic Keywords'].str.contains(\"catarac\")) & (df_picked['filepath'].str.contains(\"left\")), :])\n",
        "rightcat = len(df_picked.loc[df_picked['Right-Diagnostic Keywords'].str.contains(\"catarac\") & ((df_picked['filepath'].str.contains(\"right\"))), :])\n",
        "leftnorm = len(df_picked.loc[df_picked['Left-Diagnostic Keywords'].str.contains(\"normal\") & (df_picked['filepath'].str.contains(\"left\")), :])\n",
        "rightnorm = len(df_picked.loc[df_picked['Right-Diagnostic Keywords'].str.contains(\"normal\") & (df_picked['filepath'].str.contains(\"right\")) , :])\n",
        "fig, ax = plt.subplots(figsize=(12, 6))\n",
        "fig.suptitle('General Sample Distribution', fontsize=20)\n",
        "pd.DataFrame({'Left Catarac': leftcat, 'Right Catarac': rightcat, 'Left Normal': leftnorm, 'Right Normal': rightnorm}, index=[\"Classification\"]).plot(kind='bar', ax=ax)\n",
        "for p in ax.patches:\n",
        "    ax.annotate(str(p.get_height()), xy=(p.get_x()+0.045, p.get_height()))\n",
        "fig.show()\n",
        "print(f\"Left Catarac: {leftcat}, Right Catarac: {rightcat}, Left Normal: {leftnorm}, Right Norm: {rightnorm}\")"
      ]
    },
    {
      "cell_type": "markdown",
      "metadata": {
        "id": "TcghsFPjJLD2"
      },
      "source": [
        "## Cataracs"
      ]
    },
    {
      "cell_type": "markdown",
      "metadata": {
        "id": "KWu4zAj8JQro"
      },
      "source": [
        "### Gender"
      ]
    },
    {
      "cell_type": "code",
      "execution_count": 84,
      "metadata": {
        "colab": {
          "base_uri": "https://localhost:8080/",
          "height": 443
        },
        "id": "pOLTCYKJJu0G",
        "outputId": "f11cec93-c76b-4472-82bd-fc7612585b69"
      },
      "outputs": [
        {
          "data": {
            "image/png": "[encoded data removed]",
            "text/plain": [
              "<Figure size 864x432 with 1 Axes>"
            ]
          },
          "metadata": {
            "needs_background": "light"
          },
          "output_type": "display_data"
        }
      ],
      "source": [
        "fig, ax = plt.subplots(figsize=(12, 6))\n",
        "fig.suptitle('Catarac Gender Distribution', fontsize=20)\n",
        "df_picked.loc[(df_picked['Left-Diagnostic Keywords'].str.contains(\"catarac\")) & (df_picked['filepath'].str.contains(\"left\")) | ((df_picked['Right-Diagnostic Keywords'].str.contains(\"catarac\")) & (df_picked['filepath'].str.contains(\"right\"))), \"Patient Sex\"].value_counts().plot(kind=\"bar\", ax=ax)\n",
        "for p in ax.patches:\n",
        "    ax.annotate(str(p.get_height()), xy=(p.get_x()+0.219, p.get_height()+1))\n",
        "fig.show()"
      ]
    },
    {
      "cell_type": "markdown",
      "metadata": {
        "id": "uXu3JkLxNdgl"
      },
      "source": [
        "### Age"
      ]
    },
    {
      "cell_type": "code",
      "execution_count": 95,
      "metadata": {
        "colab": {
          "base_uri": "https://localhost:8080/",
          "height": 431
        },
        "id": "6okUyzDFNgtw",
        "outputId": "5f6db4c4-c073-4748-fc6a-d0385f8235b1"
      },
      "outputs": [
        {
          "data": {
            "image/png": "[encoded data removed]",
            "text/plain": [
              "<Figure size 864x432 with 1 Axes>"
            ]
          },
          "metadata": {
            "needs_background": "light"
          },
          "output_type": "display_data"
        }
      ],
      "source": [
        "fig, ax = plt.subplots(figsize=(12, 6))\n",
        "fig.suptitle('Catarac Age Distribution', fontsize=20)\n",
        "df_picked.loc[(df_picked['Left-Diagnostic Keywords'].str.contains(\"catarac\")) & (df_picked['filepath'].str.contains(\"left\")) | ((df_picked['Right-Diagnostic Keywords'].str.contains(\"catarac\")) & (df_picked['filepath'].str.contains(\"right\"))), \"Patient Age\"].plot(kind=\"hist\", ax=ax, bins=15)\n",
        "ax.set_xlabel(\"Age\")\n",
        "fig.show()"
      ]
    },
    {
      "cell_type": "markdown",
      "metadata": {
        "id": "Y--xsqdrOUut"
      },
      "source": [
        "## Normal"
      ]
    },
    {
      "cell_type": "markdown",
      "metadata": {
        "id": "ncEo5LaqOuLs"
      },
      "source": [
        "### Gender"
      ]
    },
    {
      "cell_type": "code",
      "execution_count": 94,
      "metadata": {
        "colab": {
          "base_uri": "https://localhost:8080/",
          "height": 443
        },
        "id": "mlTP51m-Oy5N",
        "outputId": "c86a5071-6cc2-4870-9a35-0ef0ca544d0e"
      },
      "outputs": [
        {
          "data": {
            "image/png": "[encoded data removed]",
            "text/plain": [
              "<Figure size 864x432 with 1 Axes>"
            ]
          },
          "metadata": {
            "needs_background": "light"
          },
          "output_type": "display_data"
        }
      ],
      "source": [
        "fig, ax = plt.subplots(figsize=(12, 6))\n",
        "fig.suptitle('Normal Eye Gender Distribution', fontsize=20)\n",
        "df_picked.loc[(df_picked['Left-Diagnostic Keywords'].str.contains(\"normal\")) & (df_picked['filepath'].str.contains(\"normal\")) | ((df_picked['Right-Diagnostic Keywords'].str.contains(\"catarac\")) & (df_picked['filepath'].str.contains(\"right\"))), \"Patient Sex\"].value_counts().plot(kind=\"bar\", ax=ax)\n",
        "for p in ax.patches:\n",
        "    ax.annotate(str(p.get_height()), xy=(p.get_x()+0.23, p.get_height()+1))\n",
        "fig.show()"
      ]
    },
    {
      "cell_type": "markdown",
      "metadata": {
        "id": "4DEpfKIYOv18"
      },
      "source": [
        "### Age"
      ]
    },
    {
      "cell_type": "code",
      "execution_count": 96,
      "metadata": {
        "colab": {
          "base_uri": "https://localhost:8080/",
          "height": 431
        },
        "id": "6WIYEqOaO9If",
        "outputId": "e2b1a980-e9c4-49bb-ff20-3757b8602497"
      },
      "outputs": [
        {
          "data": {
            "image/png": "[encoded data removed]",
            "text/plain": [
              "<Figure size 864x432 with 1 Axes>"
            ]
          },
          "metadata": {
            "needs_background": "light"
          },
          "output_type": "display_data"
        }
      ],
      "source": [
        "fig, ax = plt.subplots(figsize=(12, 6))\n",
        "fig.suptitle('Normal Eye Age Distribution', fontsize=20)\n",
        "df_picked.loc[(df_picked['Left-Diagnostic Keywords'].str.contains(\"normal\")) & (df_picked['filepath'].str.contains(\"left\")) | ((df_picked['Right-Diagnostic Keywords'].str.contains(\"normal\")) & (df_picked['filepath'].str.contains(\"right\"))), \"Patient Age\"].plot(kind=\"hist\", ax=ax, bins=15)\n",
        "ax.set_xlabel(\"Age\")\n",
        "fig.show()"
      ]
    },
    {
      "cell_type": "markdown",
      "metadata": {
        "id": "nB0Sok9ci4vC"
      },
      "source": [
        "# Model"
      ]
    },
    {
      "cell_type": "markdown",
      "metadata": {
        "id": "ZwCnmiwli97V"
      },
      "source": [
        "## MLP Approach"
      ]
    },
    {
      "cell_type": "markdown",
      "metadata": {
        "id": "TDP2BK_ofbNp"
      },
      "source": [
        "### MLP Model"
      ]
    },
    {
      "cell_type": "code",
      "execution_count": null,
      "metadata": {
        "id": "_fiMtMTifXof"
      },
      "outputs": [],
      "source": [
        "class MLPModel(torch.nn.Module):\n",
        "  def __init__(self, dataframe):\n",
        "    super(MLPModel, self).__init__()\n",
        "    torch.manual_seed(GLOBAL_SEED)\n",
        "    # DATASET LOADER\n",
        "    self.dataset = EyeDataset(dataframe=dataframe,\n",
        "                       transform=torchvision.transforms.Compose([\n",
        "                       CustomResize(128),\n",
        "                       CustomCenterCrop((128, 128)),\n",
        "                       RegularToNormalizedFlattenTensor()\n",
        "                     ]))\n",
        "    # LAYERING\n",
        "    self.relu = torch.nn.ReLU()\n",
        "    self.softmax = torch.nn.Softmax(dim=1)\n",
        "    self.sigmoid = torch.nn.Sigmoid()\n",
        "    insize = self.dataset[0]['img'].size(dim=0)\n",
        "    self.l1 = torch.nn.Linear(insize, 128)\n",
        "    self.d1 = torch.nn.Dropout(p=0.25)\n",
        "    self.bnorm1 = torch.nn.BatchNorm1d(128)\n",
        "    self.l2 = torch.nn.Linear(128, 64)\n",
        "    self.bnorm2 = torch.nn.BatchNorm1d(64)\n",
        "    self.l3 = torch.nn.Linear(64, 32)\n",
        "    self.bnorm3 = torch.nn.BatchNorm1d(32)\n",
        "    self.lo = torch.nn.Linear(32, 1)\n",
        "  def forward(self, x):\n",
        "    x = self.relu(self.bnorm1(self.l1(x)))\n",
        "    x = self.relu(self.bnorm2(self.l2(x)))\n",
        "    x = self.relu(self.bnorm3(self.l3(x)))\n",
        "    x = self.d1(x)\n",
        "    x = self.lo(x)\n",
        "    return x\n"
      ]
    },
    {
      "cell_type": "markdown",
      "metadata": {
        "id": "-K5uBxWw_6gn"
      },
      "source": [
        "### Training"
      ]
    },
    {
      "cell_type": "code",
      "execution_count": null,
      "metadata": {
        "colab": {
          "base_uri": "https://localhost:8080/"
        },
        "id": "xN8d7dQK2suF",
        "outputId": "a73160f8-7be7-4a95-814f-6ef838a5ff37"
      },
      "outputs": [
        {
          "name": "stdout",
          "output_type": "stream",
          "text": [
            "Epoch: 1; Loss: 0.6555738329887391\n",
            "Epoch: 2; Loss: 0.6024779359499614\n",
            "Epoch: 3; Loss: 0.5525592029094696\n",
            "Epoch: 4; Loss: 0.4985385457674662\n",
            "Epoch: 5; Loss: 0.49352105259895324\n",
            "Epoch: 6; Loss: 0.4773142913977305\n",
            "Epoch: 7; Loss: 0.43364712794621785\n",
            "Epoch: 8; Loss: 0.4240441521008809\n",
            "Epoch: 9; Loss: 0.4396765410900116\n",
            "Epoch: 10; Loss: 0.38500726024309795\n",
            "Epoch: 11; Loss: 0.38548091650009153\n",
            "Epoch: 12; Loss: 0.36460493008295697\n",
            "Epoch: 13; Loss: 0.3385884195566177\n",
            "Epoch: 14; Loss: 0.33587873180707295\n",
            "Epoch: 15; Loss: 0.331928159793218\n",
            "Epoch: 16; Loss: 0.3082391271988551\n",
            "Epoch: 17; Loss: 0.2968727469444275\n",
            "Epoch: 18; Loss: 0.292848664522171\n",
            "Epoch: 19; Loss: 0.3095363328854243\n",
            "Epoch: 20; Loss: 0.25892120202382407\n",
            "Epoch: 21; Loss: 0.29717039068539935\n",
            "Epoch: 22; Loss: 0.23244941333929697\n",
            "Epoch: 23; Loss: 0.22149761865536371\n",
            "Epoch: 24; Loss: 0.23402495086193084\n",
            "Epoch: 25; Loss: 0.19960506856441498\n",
            "Epoch: 26; Loss: 0.22977172334988913\n",
            "Epoch: 27; Loss: 0.23607937892278036\n",
            "Epoch: 28; Loss: 0.21880115469296774\n",
            "Epoch: 29; Loss: 0.17871997952461244\n",
            "Epoch: 30; Loss: 0.16175269683202106\n"
          ]
        }
      ],
      "source": [
        "dataframe = df_train\n",
        "batch_size = 32\n",
        "epoch = 30\n",
        "xlogger = np.array([])\n",
        "ylogger = np.array([])\n",
        "counter = 0\n",
        "\n",
        "\n",
        "mlp_model = MLPModel(dataframe)\n",
        "loader = torch.utils.data.DataLoader(mlp_model.dataset, batch_size=batch_size, num_workers=0, shuffle=True)\n",
        "criterion = torch.nn.BCEWithLogitsLoss()\n",
        "optim = torch.optim.NAdam(mlp_model.parameters(), lr=1e-3)\n",
        "sched = torch.optim.lr_scheduler.ReduceLROnPlateau(optim, patience=3, threshold=1e-5)\n",
        "if torch.cuda.is_available():\n",
        "  mlp_model.to('cuda')\n",
        "for e in range(epoch):\n",
        "  acculoss = 0.0\n",
        "  accstep = 0\n",
        "  for i, batch in enumerate(loader):\n",
        "      bx, by = batch['img'], batch['labels']\n",
        "      if torch.cuda.is_available():\n",
        "        bx, by = bx.to('cuda'), by.to('cuda')\n",
        "      out = mlp_model.forward(bx)\n",
        "      loss = criterion(out, by.unsqueeze(1).float())\n",
        "      optim.zero_grad()\n",
        "      loss.backward()\n",
        "      optim.step()\n",
        "      accstep += 1\n",
        "      acculoss += loss.detach().item()\n",
        "      # if ((i+1)%5 == 0):\n",
        "      #     with torch.no_grad():\n",
        "      #       print(f\"Epoch: {e+1}; Batch: {i+1}; Loss: {loss}\")\n",
        "      #       xlogger = np.append(xlogger, counter)\n",
        "      #       ylogger = np.append(ylogger, loss.item())\n",
        "      #       counter += 1    \n",
        "  print(f\"Epoch: {e+1}; Loss: {acculoss/accstep}\")\n",
        "  xlogger = np.append(xlogger, counter)\n",
        "  ylogger = np.append(ylogger, acculoss/accstep)\n",
        "  counter += 1    \n",
        "  sched.step(acculoss/accstep)"
      ]
    },
    {
      "cell_type": "markdown",
      "metadata": {
        "id": "-YIP2JsAA7mV"
      },
      "source": [
        "### Stats"
      ]
    },
    {
      "cell_type": "code",
      "execution_count": null,
      "metadata": {
        "colab": {
          "base_uri": "https://localhost:8080/",
          "height": 404
        },
        "id": "vkHZcGYuA9hJ",
        "outputId": "28fa2cf7-931a-44c3-b620-17e0306e3694"
      },
      "outputs": [
        {
          "data": {
            "image/png": "[encoded data removed]",
            "text/plain": [
              "<Figure size 864x432 with 1 Axes>"
            ]
          },
          "metadata": {},
          "output_type": "display_data"
        }
      ],
      "source": [
        "# SHOW GRAPH\n",
        "plt.figure(figsize=(12, 6))\n",
        "plt.title(f\"MLP Loss\")\n",
        "plt.figure(1).patch.set_facecolor(\"white\")\n",
        "plt.xlabel(\"Epoch\")\n",
        "plt.ylabel(\"BCE Loss\")\n",
        "plt.plot(xlogger, ylogger)\n",
        "plt.show()"
      ]
    },
    {
      "cell_type": "code",
      "execution_count": null,
      "metadata": {
        "colab": {
          "base_uri": "https://localhost:8080/"
        },
        "id": "yyu5LcqvBa8D",
        "outputId": "8f17de38-f3cd-4044-df3b-6e08eb947170"
      },
      "outputs": [
        {
          "name": "stdout",
          "output_type": "stream",
          "text": [
            "              NORMAL (P)  CATARACS (P)\n",
            "NORMAL (A)            45            12\n",
            "CATARACS (A)          15            48\n"
          ]
        }
      ],
      "source": [
        "test_set = EyeDataset(dataframe=df_test,\n",
        "                       transform=torchvision.transforms.Compose([\n",
        "                       CustomResize(128),\n",
        "                       CustomCenterCrop((128, 128)),\n",
        "                       RegularToNormalizedFlattenTensor()\n",
        "                     ]))\n",
        "loader = torch.utils.data.DataLoader(test_set, batch_size=len(test_set), num_workers=0, shuffle=False)\n",
        "with torch.no_grad():\n",
        "  classes = [\"NORMAL\", \"CATARACS\"]\n",
        "  for batch in loader:\n",
        "      bx, by = batch['img'], batch['labels']\n",
        "      if torch.cuda.is_available():\n",
        "        bx = bx.to('cuda')\n",
        "      out = mlp_model.forward(bx)\n",
        "      outenc = torch.round(torch.flatten(torch.sigmoid(out)))\n",
        "      cf_matrix = sklearn.metrics.confusion_matrix(by, outenc.cpu())\n",
        "      df_cm = pd.DataFrame(cf_matrix, index = [i+\" (A)\" for i in classes], columns = [i+\" (P)\" for i in classes])\n",
        "      print(df_cm)"
      ]
    },
    {
      "cell_type": "code",
      "execution_count": null,
      "metadata": {
        "colab": {
          "base_uri": "https://localhost:8080/"
        },
        "id": "dtyFB8KoCMcH",
        "outputId": "3880a646-7055-4388-f9a0-54d4b71cbaa9"
      },
      "outputs": [
        {
          "name": "stdout",
          "output_type": "stream",
          "text": [
            "\n",
            "Total Accuracy: 0.7750\n",
            "             NORMAL  CATARACS\n",
            "Recall     0.789474  0.761905\n",
            "Precision  0.750000  0.800000\n",
            "F1 Score   0.769231  0.780488\n"
          ]
        }
      ],
      "source": [
        "print_eval(cf_matrix, classes)"
      ]
    },
    {
      "cell_type": "markdown",
      "metadata": {
        "id": "gXj7wznyGggd"
      },
      "source": [
        "## CNN Approach (VGG)"
      ]
    },
    {
      "cell_type": "markdown",
      "metadata": {
        "id": "Jl_JZF5iIT_A"
      },
      "source": [
        "### CNN Model"
      ]
    },
    {
      "cell_type": "code",
      "execution_count": null,
      "metadata": {
        "id": "A8AGktLBIW0M"
      },
      "outputs": [],
      "source": [
        "# Gajadi GoogLeNet kena overfit\n",
        "# class InceptionBlock(torch.nn.Module):\n",
        "#   def __init__(self, in_channels, c1, c2, c3, c4):\n",
        "#     super(InceptionBlock, self).__init__()\n",
        "#     torch.manual_seed(GLOBAL_SEED)\n",
        "#     self.relu = torch.nn.ReLU()\n",
        "#     self.p1_1 = torch.nn.Conv2d(in_channels, c1, kernel_size=1)\n",
        "#     self.p2_1 = torch.nn.Conv2d(in_channels, c2[0], kernel_size=1)\n",
        "#     self.p2_2 = torch.nn.Conv2d(c2[0], c2[1], kernel_size=3, padding=1)\n",
        "#     self.p3_1 = torch.nn.Conv2d(in_channels, c3[0], kernel_size=1)\n",
        "#     self.p3_2 = torch.nn.Conv2d(c3[0], c3[1], kernel_size=5, padding=2)\n",
        "#     self.p4_1 = torch.nn.MaxPool2d(kernel_size=3, stride=1, padding=1)\n",
        "#     self.p4_2 = torch.nn.Conv2d(in_channels, c4, kernel_size=1)\n",
        "#   def forward(self, x):\n",
        "#     p1 = torch.nn.functional.relu(self.p1_1(x))\n",
        "#     p2 = self.relu(self.p2_2(self.relu(self.p2_1(x))))\n",
        "#     p3 = self.relu(self.p3_2(self.relu(self.p3_1(x))))\n",
        "#     p4 = self.relu(self.p4_2(self.p4_1(x)))\n",
        "#     return torch.cat((p1, p2, p3, p4), dim=1)\n",
        "\n",
        "# class CNNModel(torch.nn.Module):\n",
        "#   def __init__(self, dataframe):\n",
        "#     super(CNNModel, self).__init__()\n",
        "#     torch.manual_seed(GLOBAL_SEED)\n",
        "#     # DATASET LOADER\n",
        "#     self.dataset = EyeDataset(dataframe=dataframe,\n",
        "#                        transform=torchvision.transforms.Compose([\n",
        "#                        CustomResize(256),\n",
        "#                        CustomCenterCrop(224),\n",
        "#                        RegularToNormalizedMergedTensor()\n",
        "#                      ]))\n",
        "#     # LAYERING\n",
        "#     in_ch = self.dataset[0]['img'].size(dim=0)\n",
        "#     # STAGE 1 Conv+ReLU+MaxPool\n",
        "#     self.s1 = torch.nn.Sequential(torch.nn.Conv2d(in_ch, 64, kernel_size=7, stride=2, padding=3),\n",
        "#                    torch.nn.ReLU(),\n",
        "#                    torch.nn.MaxPool2d(kernel_size=3, stride=2, padding=1))\n",
        "#     # STAGE 2 Double Conv+ReLU and MaxPool\n",
        "#     self.s2 = torch.nn.Sequential(torch.nn.Conv2d(64, 64, kernel_size=1),\n",
        "#                    torch.nn.ReLU(),\n",
        "#                    torch.nn.Conv2d(64, 192, kernel_size=3, padding=1),\n",
        "#                    torch.nn.ReLU(),\n",
        "#                    torch.nn.MaxPool2d(kernel_size=3, stride=2, padding=1))\n",
        "#     # STAGE 3 Double Inception Block + MaxPool\n",
        "#     self.s3 = torch.nn.Sequential(InceptionBlock(192, 64, (96, 128), (16, 32), 32),\n",
        "#                    InceptionBlock(256, 128, (128, 192), (32, 96), 64),\n",
        "#                    torch.nn.MaxPool2d(kernel_size=3, stride=2, padding=1))\n",
        "#     # STAGE 4 Quintuple Inception Block + MaxPool\n",
        "#     self.s4 = torch.nn.Sequential(InceptionBlock(480, 192, (96, 208), (16, 48), 64),\n",
        "#                    InceptionBlock(512, 160, (112, 224), (24, 64), 64),\n",
        "#                    InceptionBlock(512, 128, (128, 256), (24, 64), 64),\n",
        "#                    InceptionBlock(512, 112, (144, 288), (32, 64), 64),\n",
        "#                    InceptionBlock(528, 256, (160, 320), (32, 128), 128),\n",
        "#                    torch.nn.MaxPool2d(kernel_size=3, stride=2, padding=1))\n",
        "#     # STAGE 5 Double Inception Block + Adaptive Avg Pool\n",
        "#     self.s5 = torch.nn.Sequential(InceptionBlock(832, 256, (160, 320), (32, 128), 128),\n",
        "#                    InceptionBlock(832, 384, (192, 384), (48, 128), 128),\n",
        "#                    torch.nn.AdaptiveAvgPool2d((1,1)),\n",
        "#                    torch.nn.Flatten())\n",
        "#     # Output Layer\n",
        "#     self.lo = torch.nn.Linear(1024, 1)\n",
        "#     self.d1 = torch.nn.Dropout(p=0.5)\n",
        "#     # torch.nn.init.xavier_normal_(self.lo.weight)\n",
        "#   def forward(self, x):\n",
        "#     x = self.s5(self.s4(self.s3(self.s2(self.s1(x)))))\n",
        "#     x = self.d1(x)\n",
        "#     return self.lo(x)\n",
        "\n",
        "class CNNModel(torch.nn.Module):\n",
        "  def applyw(self, w):\n",
        "      if type(w) == torch.nn.Conv2d:\n",
        "        torch.nn.init.xavier_uniform_(w.weight, gain=torch.nn.init.calculate_gain('relu'))\n",
        "\n",
        "  def __init__(self, dataframe):\n",
        "    super(CNNModel, self).__init__()\n",
        "    torch.manual_seed(GLOBAL_SEED)\n",
        "    # DATASET LOADER\n",
        "    self.dataset = EyeDataset(dataframe=dataframe,\n",
        "                      transform=torchvision.transforms.Compose([\n",
        "                      CustomResize(256),\n",
        "                      CustomCenterCrop((224, 224)),\n",
        "                      RegularToNormalizedMergedTensor()\n",
        "                    ]))\n",
        "    self.in_ch = self.dataset[0]['img'].size(dim=0)\n",
        "    self.conv_layers = torch.nn.Sequential(\n",
        "        torch.nn.Conv2d(self.in_ch, 64, kernel_size=3, padding=1),\n",
        "        torch.nn.ReLU(),\n",
        "        torch.nn.MaxPool2d(kernel_size=2, stride=2),\n",
        "        torch.nn.Conv2d(64, 128, kernel_size=3, padding=1),\n",
        "        torch.nn.ReLU(),\n",
        "        torch.nn.MaxPool2d(kernel_size=2, stride=2),\n",
        "        torch.nn.Conv2d(128, 256, kernel_size=3, padding=1),\n",
        "        torch.nn.ReLU(),\n",
        "        torch.nn.Conv2d(256, 256, kernel_size=3, padding=1),\n",
        "        torch.nn.ReLU(),\n",
        "        torch.nn.MaxPool2d(kernel_size=2, stride=2),\n",
        "        torch.nn.Conv2d(256, 512, kernel_size=3, padding=1),\n",
        "        torch.nn.ReLU(),\n",
        "        torch.nn.Conv2d(512, 512, kernel_size=3, padding=1),\n",
        "        torch.nn.ReLU(),\n",
        "        torch.nn.MaxPool2d(kernel_size=2, stride=2),\n",
        "        torch.nn.Conv2d(512, 512, kernel_size=3, padding=1),\n",
        "        torch.nn.ReLU(),\n",
        "        torch.nn.Conv2d(512, 512, kernel_size=3, padding=1),\n",
        "        torch.nn.ReLU(),\n",
        "        torch.nn.MaxPool2d(kernel_size=2, stride=2),\n",
        "        torch.nn.Flatten()\n",
        "    )\n",
        "    # fully connected linear layers\n",
        "    self.linear_layers = torch.nn.Sequential(\n",
        "        torch.nn.Linear(512*7*7, 4096),\n",
        "        torch.nn.ReLU(),\n",
        "        torch.nn.Dropout(0.5),\n",
        "        torch.nn.Linear(4096, 4096),\n",
        "        torch.nn.ReLU(),\n",
        "        torch.nn.Dropout(0.5),\n",
        "        torch.nn.Linear(4096, 1)\n",
        "    )\n",
        "\n",
        "  def forward(self, x):\n",
        "    return self.linear_layers(self.conv_layers(x))\n"
      ]
    },
    {
      "cell_type": "markdown",
      "metadata": {
        "id": "KJKwMk0KRtXE"
      },
      "source": [
        "### Training"
      ]
    },
    {
      "cell_type": "code",
      "execution_count": null,
      "metadata": {
        "colab": {
          "base_uri": "https://localhost:8080/"
        },
        "id": "lwfDCLbeU9dG",
        "outputId": "708b8db0-2ea2-49aa-cb38-39ec3ffd6426"
      },
      "outputs": [
        {
          "name": "stdout",
          "output_type": "stream",
          "text": [
            "Epoch: 1; Loss: 0.6923396468162537\n",
            "Epoch: 2; Loss: 0.6887384454409281\n",
            "Epoch: 3; Loss: 0.6834265549977621\n",
            "Epoch: 4; Loss: 0.6768775741259258\n",
            "Epoch: 5; Loss: 0.6564265171686808\n",
            "Epoch: 6; Loss: 0.6461218436559041\n",
            "Epoch: 7; Loss: 0.650216015179952\n",
            "Epoch: 8; Loss: 0.6112921953201294\n",
            "Epoch: 9; Loss: 0.6624187390009563\n",
            "Epoch: 10; Loss: 0.6484756151835124\n",
            "Epoch: 11; Loss: 0.606783386071523\n",
            "Epoch: 12; Loss: 0.5660408794879913\n",
            "Epoch: 13; Loss: 0.5219585160414378\n",
            "Epoch: 14; Loss: 0.5033439715703328\n",
            "Epoch: 15; Loss: 0.4916908125082652\n",
            "Epoch: 16; Loss: 0.4680925210316976\n",
            "Epoch: 17; Loss: 0.47778066794077556\n",
            "Epoch: 18; Loss: 0.4548188805580139\n",
            "Epoch: 19; Loss: 0.42366792559623717\n",
            "Epoch: 20; Loss: 0.4276837209860484\n",
            "Epoch: 21; Loss: 0.41745562354723614\n",
            "Epoch: 22; Loss: 0.4206336756547292\n",
            "Epoch: 23; Loss: 0.4210062106450399\n",
            "Epoch: 24; Loss: 0.3942320783933004\n",
            "Epoch: 25; Loss: 0.3797900378704071\n",
            "Epoch: 26; Loss: 0.3643382539351781\n",
            "Epoch: 27; Loss: 0.3655871589978536\n",
            "Epoch: 28; Loss: 0.3742581238349279\n",
            "Epoch: 29; Loss: 0.38796561360359194\n",
            "Epoch: 30; Loss: 0.3646557370821635\n"
          ]
        }
      ],
      "source": [
        "dataframe = df_train\n",
        "batch_size = 32\n",
        "epoch = 30\n",
        "xlogger = np.array([])\n",
        "ylogger = np.array([])\n",
        "counter = 0\n",
        "\n",
        "\n",
        "cnn_model = CNNModel(dataframe)\n",
        "loader = torch.utils.data.DataLoader(cnn_model.dataset, batch_size=batch_size, num_workers=0, shuffle=True)\n",
        "criterion = torch.nn.BCEWithLogitsLoss()\n",
        "optim = torch.optim.SGD(cnn_model.parameters(), lr=0.001, momentum=0.9, \n",
        "                      weight_decay=0.0005)\n",
        "if torch.cuda.is_available():\n",
        "  cnn_model.to('cuda')\n",
        "for e in range(epoch):\n",
        "  acculoss = 0.0\n",
        "  accstep = 0\n",
        "  for i, batch in enumerate(loader):\n",
        "      optim.zero_grad()\n",
        "      bx, by = batch['img'], batch['labels']\n",
        "      if torch.cuda.is_available():\n",
        "        bx, by = bx.to('cuda'), by.to('cuda')\n",
        "      out = cnn_model.forward(bx)\n",
        "      loss = criterion(out, by.unsqueeze(1).float())\n",
        "      loss.backward()\n",
        "      optim.step()\n",
        "      accstep += 1\n",
        "      acculoss += loss.item()\n",
        "  print(f\"Epoch: {e+1}; Loss: {acculoss/accstep}\")\n",
        "  xlogger = np.append(xlogger, counter)\n",
        "  ylogger = np.append(ylogger, acculoss/accstep)\n",
        "  counter += 1    "
      ]
    },
    {
      "cell_type": "markdown",
      "metadata": {
        "id": "xyIJoqAIRwKB"
      },
      "source": [
        "### Stats"
      ]
    },
    {
      "cell_type": "code",
      "execution_count": null,
      "metadata": {
        "colab": {
          "base_uri": "https://localhost:8080/",
          "height": 404
        },
        "id": "D-mEPEbneJkt",
        "outputId": "1981523d-eb81-4019-dd16-5383222e5828"
      },
      "outputs": [
        {
          "data": {
            "image/png": "[encoded data removed]",
            "text/plain": [
              "<Figure size 864x432 with 1 Axes>"
            ]
          },
          "metadata": {},
          "output_type": "display_data"
        }
      ],
      "source": [
        "# SHOW GRAPH\n",
        "plt.figure(figsize=(12, 6))\n",
        "plt.title(f\"CNN (VGG) Loss\")\n",
        "plt.figure(1).patch.set_facecolor(\"white\")\n",
        "plt.xlabel(\"Epoch\")\n",
        "plt.ylabel(\"BCE Loss\")\n",
        "plt.plot(xlogger, ylogger)\n",
        "plt.show()"
      ]
    },
    {
      "cell_type": "code",
      "execution_count": null,
      "metadata": {
        "colab": {
          "base_uri": "https://localhost:8080/"
        },
        "id": "_9G3me8WeWhc",
        "outputId": "79676731-6cdf-4619-8637-7acd3f572e0d"
      },
      "outputs": [
        {
          "name": "stdout",
          "output_type": "stream",
          "text": [
            "              NORMAL (P)  CATARACS (P)\n",
            "NORMAL (A)            40            17\n",
            "CATARACS (A)           5            58\n"
          ]
        }
      ],
      "source": [
        "test_set =  EyeDataset(dataframe=df_test,\n",
        "                       transform=torchvision.transforms.Compose([\n",
        "                       CustomResize(256),\n",
        "                       CustomCenterCrop((224, 224)),\n",
        "                       RegularToNormalizedMergedTensor()\n",
        "                     ]))\n",
        "loader = torch.utils.data.DataLoader(test_set, batch_size=len(test_set), num_workers=0, shuffle=False)\n",
        "with torch.no_grad():\n",
        "  classes = [\"NORMAL\", \"CATARACS\"]\n",
        "  for batch in loader:\n",
        "      bx, by = batch['img'], batch['labels']\n",
        "      if torch.cuda.is_available():\n",
        "        bx = bx.to('cuda')\n",
        "      out = cnn_model.forward(bx)\n",
        "      outenc = torch.round(torch.flatten(torch.sigmoid(out)))\n",
        "      cf_matrix = sklearn.metrics.confusion_matrix(by, outenc.cpu())\n",
        "      df_cm = pd.DataFrame(cf_matrix, index = [i+\" (A)\" for i in classes], columns = [i+\" (P)\" for i in classes])\n",
        "      print(df_cm)"
      ]
    },
    {
      "cell_type": "code",
      "execution_count": null,
      "metadata": {
        "colab": {
          "base_uri": "https://localhost:8080/"
        },
        "id": "I2n_HtiQe_oi",
        "outputId": "8b282191-25af-404b-8611-42cfb2c5745a"
      },
      "outputs": [
        {
          "name": "stdout",
          "output_type": "stream",
          "text": [
            "\n",
            "Total Accuracy: 0.8167\n",
            "             NORMAL  CATARACS\n",
            "Recall     0.701754  0.920635\n",
            "Precision  0.888889  0.773333\n",
            "F1 Score   0.784314  0.840580\n"
          ]
        }
      ],
      "source": [
        "print_eval(cf_matrix, classes)"
      ]
    },
    {
      "cell_type": "markdown",
      "metadata": {
        "id": "8CJ3j1bMR-h3"
      },
      "source": [
        "## RNN Approach (LSTM)"
      ]
    },
    {
      "cell_type": "markdown",
      "metadata": {
        "id": "P6nlRjKkV-Vc"
      },
      "source": [
        "### RNN Model"
      ]
    },
    {
      "cell_type": "code",
      "execution_count": null,
      "metadata": {
        "id": "Gnkk__5HV-FR"
      },
      "outputs": [],
      "source": [
        "class RNNModel(torch.nn.Module):\n",
        "  def __init__(self, dataframe, input_dim, hidden_dim, layer_dim, output_dim):\n",
        "    super(RNNModel, self).__init__()\n",
        "    torch.manual_seed(GLOBAL_SEED)\n",
        "    # DATASET LOADER\n",
        "    self.dataset = EyeDataset(dataframe=dataframe,\n",
        "                      transform=torchvision.transforms.Compose([\n",
        "                      CustomResize(input_dim),\n",
        "                      CustomCenterCrop((input_dim, input_dim)),\n",
        "                      RegularToNormalizedMergedTensor()\n",
        "                    ]))\n",
        "    self.hidden_dim = hidden_dim\n",
        "    self.layer_dim = layer_dim\n",
        "    self.lstmR = torch.nn.LSTM(input_dim, hidden_dim, layer_dim, batch_first=True)\n",
        "    self.lstmG = torch.nn.LSTM(input_dim, hidden_dim, layer_dim, batch_first=True)\n",
        "    self.lstmB = torch.nn.LSTM(input_dim, hidden_dim, layer_dim, batch_first=True)\n",
        "    self.fc = torch.nn.Linear(3*hidden_dim, output_dim)\n",
        "    self.d1 = torch.nn.Dropout(p=0.5)\n",
        "\n",
        "  def forward(self, x):\n",
        "    h0 = torch.zeros(self.layer_dim, x.size(0), self.hidden_dim).requires_grad_()\n",
        "    c0 = torch.zeros(self.layer_dim, x.size(0), self.hidden_dim).requires_grad_()\n",
        "    h1 = torch.zeros(self.layer_dim, x.size(0), self.hidden_dim).requires_grad_()\n",
        "    c1 = torch.zeros(self.layer_dim, x.size(0), self.hidden_dim).requires_grad_()\n",
        "    h2 = torch.zeros(self.layer_dim, x.size(0), self.hidden_dim).requires_grad_()\n",
        "    c2 = torch.zeros(self.layer_dim, x.size(0), self.hidden_dim).requires_grad_()\n",
        "    if torch.cuda.is_available():\n",
        "      h0 = h0.to('cuda')\n",
        "      c0 = c0.to('cuda')\n",
        "      h1 = h1.to('cuda')\n",
        "      c1 = c1.to('cuda')\n",
        "      h2 = h2.to('cuda')\n",
        "      c2 = c2.to('cuda')\n",
        "\n",
        "    outR, (h0n, c0n) = self.lstmR(x[:,0,:,:], (h0.detach(), c0.detach()))\n",
        "    outG, (h1n, c1n) = self.lstmG(x[:,1,:,:], (h1.detach(), c1.detach()))\n",
        "    outB, (h2n, c2n) = self.lstmB(x[:,2,:,:], (h2.detach(), c2.detach()))\n",
        "    out = self.fc(torch.cat((outR[:, -1, :], outG[:, -1, :], outB[:, -1, :]), axis=1))\n",
        "    return out"
      ]
    },
    {
      "cell_type": "markdown",
      "metadata": {
        "id": "Kt1FUlxrfVp2"
      },
      "source": [
        "### Training"
      ]
    },
    {
      "cell_type": "code",
      "execution_count": null,
      "metadata": {
        "colab": {
          "base_uri": "https://localhost:8080/"
        },
        "id": "6M6ToEbZfXJB",
        "outputId": "19d1b0e3-22d4-499c-b0a3-f40838bc9af2"
      },
      "outputs": [
        {
          "name": "stdout",
          "output_type": "stream",
          "text": [
            "Epoch: 1; Loss: 0.6932337045669555\n",
            "Epoch: 2; Loss: 0.6908448576927185\n",
            "Epoch: 3; Loss: 0.6896891395250956\n",
            "Epoch: 4; Loss: 0.6871532638867696\n",
            "Epoch: 5; Loss: 0.6864095012346904\n",
            "Epoch: 6; Loss: 0.685160752137502\n",
            "Epoch: 7; Loss: 0.6842683315277099\n",
            "Epoch: 8; Loss: 0.6826538483301798\n",
            "Epoch: 9; Loss: 0.679977027575175\n",
            "Epoch: 10; Loss: 0.6783825914065044\n",
            "Epoch: 11; Loss: 0.677316443125407\n",
            "Epoch: 12; Loss: 0.6744725545247395\n",
            "Epoch: 13; Loss: 0.673015566666921\n",
            "Epoch: 14; Loss: 0.668613851070404\n",
            "Epoch: 15; Loss: 0.6695548733075459\n",
            "Epoch: 16; Loss: 0.6652405222256979\n",
            "Epoch: 17; Loss: 0.6647122939427693\n",
            "Epoch: 18; Loss: 0.6646215558052063\n",
            "Epoch: 19; Loss: 0.6630696495374043\n",
            "Epoch: 20; Loss: 0.660612940788269\n",
            "Epoch: 21; Loss: 0.6653397719065348\n",
            "Epoch: 22; Loss: 0.6628859996795654\n",
            "Epoch: 23; Loss: 0.6568632404009501\n",
            "Epoch: 24; Loss: 0.6536799470583597\n",
            "Epoch: 25; Loss: 0.6525469064712525\n",
            "Epoch: 26; Loss: 0.6562415719032287\n",
            "Epoch: 27; Loss: 0.6526901523272196\n",
            "Epoch: 28; Loss: 0.6513897538185119\n",
            "Epoch: 29; Loss: 0.6454277316729228\n",
            "Epoch: 30; Loss: 0.6483809987703959\n",
            "Epoch: 31; Loss: 0.6482260584831238\n",
            "Epoch: 32; Loss: 0.6454303582509359\n",
            "Epoch: 33; Loss: 0.6401219844818116\n",
            "Epoch: 34; Loss: 0.6434089064598083\n",
            "Epoch: 35; Loss: 0.6398479302724203\n",
            "Epoch: 36; Loss: 0.6403021017710367\n",
            "Epoch: 37; Loss: 0.6369543592135112\n",
            "Epoch: 38; Loss: 0.6364569703737895\n",
            "Epoch: 39; Loss: 0.6381398240725199\n",
            "Epoch: 40; Loss: 0.6456618507703146\n",
            "Epoch: 41; Loss: 0.6415817062060039\n",
            "Epoch: 42; Loss: 0.6348019003868103\n",
            "Epoch: 43; Loss: 0.6292526483535766\n",
            "Epoch: 44; Loss: 0.6408363143603008\n",
            "Epoch: 45; Loss: 0.6323234518369039\n",
            "Epoch: 46; Loss: 0.6200155019760132\n",
            "Epoch: 47; Loss: 0.633997400601705\n",
            "Epoch: 48; Loss: 0.6264004151026408\n",
            "Epoch: 49; Loss: 0.6277339061101278\n",
            "Epoch: 50; Loss: 0.618783462047577\n"
          ]
        }
      ],
      "source": [
        "dataframe = df_train\n",
        "batch_size = 32\n",
        "epoch = 50\n",
        "xlogger = np.array([])\n",
        "ylogger = np.array([])\n",
        "counter = 0\n",
        "\n",
        "\n",
        "rnn_model = RNNModel(dataframe, 224, batch_size, 2, 1)\n",
        "loader = torch.utils.data.DataLoader(rnn_model.dataset, batch_size=batch_size, num_workers=0, shuffle=True)\n",
        "criterion = torch.nn.BCEWithLogitsLoss()\n",
        "optim = torch.optim.SGD(rnn_model.parameters(), lr=0.1)\n",
        "if torch.cuda.is_available():\n",
        "  rnn_model.to('cuda')\n",
        "for e in range(epoch):\n",
        "  acculoss = 0.0\n",
        "  accstep = 0\n",
        "  for i, batch in enumerate(loader):\n",
        "      optim.zero_grad()\n",
        "      bx, by = batch['img'], batch['labels']\n",
        "      if torch.cuda.is_available():\n",
        "        bx, by = bx.to('cuda'), by.to('cuda')\n",
        "      out = rnn_model.forward(bx)\n",
        "      loss = criterion(out, by.unsqueeze(1).float())\n",
        "      loss.backward()\n",
        "      optim.step()\n",
        "      accstep += 1\n",
        "      acculoss += loss.item()\n",
        "  print(f\"Epoch: {e+1}; Loss: {acculoss/accstep}\")\n",
        "  xlogger = np.append(xlogger, counter)\n",
        "  ylogger = np.append(ylogger, acculoss/accstep)\n",
        "  counter += 1    "
      ]
    },
    {
      "cell_type": "markdown",
      "metadata": {
        "id": "FLscWGknnHav"
      },
      "source": [
        "### Stats"
      ]
    },
    {
      "cell_type": "code",
      "execution_count": null,
      "metadata": {
        "colab": {
          "base_uri": "https://localhost:8080/",
          "height": 404
        },
        "id": "UK460Hb9nPEI",
        "outputId": "eadfa704-a43d-4041-de36-de5de27b1bef"
      },
      "outputs": [
        {
          "data": {
            "image/png": "[encoded data removed]",
            "text/plain": [
              "<Figure size 864x432 with 1 Axes>"
            ]
          },
          "metadata": {},
          "output_type": "display_data"
        }
      ],
      "source": [
        "# SHOW GRAPH\n",
        "plt.figure(figsize=(12, 6))\n",
        "plt.title(f\"RNN (LSTM) Loss\")\n",
        "plt.figure(1).patch.set_facecolor(\"white\")\n",
        "plt.xlabel(\"Epoch\")\n",
        "plt.ylabel(\"BCE Loss\")\n",
        "plt.plot(xlogger, ylogger)\n",
        "plt.show()"
      ]
    },
    {
      "cell_type": "code",
      "execution_count": null,
      "metadata": {
        "colab": {
          "base_uri": "https://localhost:8080/"
        },
        "id": "ywCmL_YhnI4p",
        "outputId": "036ba6b5-6d63-4a5a-e20e-53b1c894e24e"
      },
      "outputs": [
        {
          "name": "stdout",
          "output_type": "stream",
          "text": [
            "              NORMAL (P)  CATARACS (P)\n",
            "NORMAL (A)            23            34\n",
            "CATARACS (A)          27            36\n"
          ]
        }
      ],
      "source": [
        "test_set =  EyeDataset(dataframe=df_test,\n",
        "                       transform=torchvision.transforms.Compose([\n",
        "                       CustomResize(224),\n",
        "                       CustomCenterCrop((224, 224)),\n",
        "                       RegularToNormalizedMergedTensor()\n",
        "                     ]))\n",
        "loader = torch.utils.data.DataLoader(test_set, batch_size=len(test_set), num_workers=0, shuffle=False)\n",
        "with torch.no_grad():\n",
        "  classes = [\"NORMAL\", \"CATARACS\"]\n",
        "  for batch in loader:\n",
        "      bx, by = batch['img'], batch['labels']\n",
        "      if torch.cuda.is_available():\n",
        "        bx = bx.to('cuda')\n",
        "      out = rnn_model.forward(bx)\n",
        "      outenc = torch.round(torch.flatten(torch.sigmoid(out)))\n",
        "      cf_matrix = sklearn.metrics.confusion_matrix(by, outenc.cpu())\n",
        "      df_cm = pd.DataFrame(cf_matrix, index = [i+\" (A)\" for i in classes], columns = [i+\" (P)\" for i in classes])\n",
        "      print(df_cm)"
      ]
    },
    {
      "cell_type": "code",
      "execution_count": null,
      "metadata": {
        "colab": {
          "base_uri": "https://localhost:8080/"
        },
        "id": "ae1OPJ9HnMGh",
        "outputId": "b695d072-91f4-4da2-986b-40b34379164e"
      },
      "outputs": [
        {
          "name": "stdout",
          "output_type": "stream",
          "text": [
            "\n",
            "Total Accuracy: 0.4917\n",
            "             NORMAL  CATARACS\n",
            "Recall     0.403509  0.571429\n",
            "Precision  0.460000  0.514286\n",
            "F1 Score   0.429907  0.541353\n"
          ]
        }
      ],
      "source": [
        "print_eval(cf_matrix, classes)"
      ]
    }
  ],
  "metadata": {
    "accelerator": "GPU",
    "colab": {
      "collapsed_sections": [
        "lsbxe-_auq-J"
      ],
      "machine_shape": "hm",
      "name": "Copy_of_Tugas_4_DL(1).ipynb",
      "provenance": [],
      "toc_visible": true
    },
    "kernelspec": {
      "display_name": "Python 3",
      "name": "python3"
    },
    "language_info": {
      "name": "python"
    }
  },
  "nbformat": 4,
  "nbformat_minor": 0
}
